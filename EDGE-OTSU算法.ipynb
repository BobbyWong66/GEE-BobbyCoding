{
 "cells": [
  {
   "cell_type": "code",
   "execution_count": 1,
   "id": "d27d29b8",
   "metadata": {},
   "outputs": [],
   "source": [
    "import os\n",
    "os.environ['HTTP_PROXY'] = 'http://127.0.0.1:10000'\n",
    "os.environ['HTTPS_PROXY'] = 'http://127.0.0.1:10000'"
   ]
  },
  {
   "cell_type": "code",
   "execution_count": 2,
   "id": "3639ca0a",
   "metadata": {},
   "outputs": [],
   "source": [
    "import ee\n",
    "import geemap\n",
    "import math\n",
    "from bqplot import pyplot as plt\n",
    "from bqplot import Bars"
   ]
  },
  {
   "cell_type": "code",
   "execution_count": 3,
   "id": "3287e513",
   "metadata": {},
   "outputs": [],
   "source": [
    "def powerToDb(img):\n",
    "    return ee.Image(10).multiply(img.log10())\n",
    "\n",
    "def dbToPower(img):\n",
    "    return ee.Image(10).pow(img.divide(10))"
   ]
  },
  {
   "cell_type": "code",
   "execution_count": 4,
   "id": "fe9d7535",
   "metadata": {},
   "outputs": [],
   "source": [
    "def gammaMap(img):\n",
    "    ksize = 7\n",
    "    enl = 5\n",
    "    bandNames = img.bandNames()\n",
    "    \n",
    "\n",
    "    # Convert image from dB to natural values\n",
    "    nat_img = dbToPower(img)\n",
    "\n",
    "    # Square kernel, ksize should be odd (typically 3, 5 or 7)\n",
    "    weights = ee.List.repeat(ee.List.repeat(1,ksize),ksize)\n",
    "\n",
    "    # ~~(ksize/2) does integer division in JavaScript\n",
    "    kernel = ee.Kernel.fixed(ksize,ksize, weights, int(3.5), int(3.5), False)\n",
    "\n",
    "    # Get mean and variance\n",
    "    mean = nat_img.reduceNeighborhood(ee.Reducer.mean(), kernel)\n",
    "    variance = nat_img.reduceNeighborhood(ee.Reducer.variance(), kernel)\n",
    "\n",
    "    # \"Pure speckle\" threshold\n",
    "    ci = variance.sqrt().divide(mean);  # square root of inverse of enl\n",
    "\n",
    "    # If ci <= cu, the kernel lies in a \"pure speckle\" area -> return simple mean\n",
    "    cu = 1.0/math.sqrt(enl)\n",
    "\n",
    "    # If cu < ci < cmax the kernel lies in the low textured speckle area -> return the filtered value\n",
    "    cmax = math.sqrt(2.0) * cu\n",
    "\n",
    "    alpha = ee.Image(1.0 + cu*cu).divide(ci.multiply(ci).subtract(cu*cu))\n",
    "    b = alpha.subtract(enl + 1.0)\n",
    "    d = mean.multiply(mean).multiply(b).multiply(b).add(alpha.multiply(mean).multiply(nat_img).multiply(4.0*enl))\n",
    "    f = b.multiply(mean).add(d.sqrt()).divide(alpha.multiply(2.0))\n",
    "\n",
    "    #问题在这里\n",
    "    caster = ee.Dictionary.fromLists(bandNames,ee.List.repeat('float',3))\n",
    "    img1 = powerToDb(mean.updateMask(ci.lte(cu))).rename(bandNames).cast(caster)\n",
    "    img2 = powerToDb(f.updateMask(ci.gt(cu)).updateMask(ci.lt(cmax))).rename(bandNames).cast(caster)\n",
    "    img3 = img.updateMask(ci.gte(cmax)).rename(bandNames).cast(caster)\n",
    "\n",
    "    # If ci > cmax do not filter at all (i.e. we don't do anything, other then masking)\n",
    "    result = ee.ImageCollection([img1,img2,img3]).reduce(ee.Reducer.firstNonNull()).rename(bandNames)\n",
    "   \n",
    "\n",
    "    # Compose a 3 band image with the mean filtered \"pure speckle\", the \"low textured\" filtered and the unfiltered portions\n",
    "    return result"
   ]
  },
  {
   "cell_type": "code",
   "execution_count": 5,
   "id": "390dd2e7",
   "metadata": {},
   "outputs": [],
   "source": [
    "def otsu(histogram):\n",
    "    counts = ee.Array(ee.Dictionary(histogram).get('histogram'))\n",
    "    means = ee.Array(ee.Dictionary(histogram).get('bucketMeans'))\n",
    "    size = means.length().get([0])\n",
    "    total = counts.reduce(ee.Reducer.sum(), [0]).get([0])\n",
    "    sum = means.multiply(counts).reduce(ee.Reducer.sum(), [0]).get([0])\n",
    "    mean = sum.divide(total)\n",
    "\n",
    "    indices = ee.List.sequence(1, size)\n",
    "\n",
    "  # Compute between sum of squares, where each mean partitions the data.\n",
    "\n",
    "    def func_xxx(i):\n",
    "        aCounts = counts.slice(0, 0, i)\n",
    "        aCount = aCounts.reduce(ee.Reducer.sum(), [0]).get([0])\n",
    "        aMeans = means.slice(0, 0, i)\n",
    "        aMean = aMeans.multiply(aCounts) \\\n",
    "            .reduce(ee.Reducer.sum(), [0]).get([0]) \\\n",
    "            .divide(aCount)\n",
    "        bCount = total.subtract(aCount)\n",
    "        bMean = sum.subtract(aCount.multiply(aMean)).divide(bCount)\n",
    "        return aCount.multiply(aMean.subtract(mean).pow(2)).add(\n",
    "              bCount.multiply(bMean.subtract(mean).pow(2)))\n",
    "\n",
    "    bss = indices.map(func_xxx)\n",
    "\n",
    "    # Return the mean value corresponding to the maximum BSS.\n",
    "    return means.sort(bss).get([-1])"
   ]
  },
  {
   "cell_type": "code",
   "execution_count": 6,
   "id": "b13acb06",
   "metadata": {},
   "outputs": [
    {
     "data": {
      "application/vnd.jupyter.widget-view+json": {
       "model_id": "d70356d72d254291a875b48937928651",
       "version_major": 2,
       "version_minor": 0
      },
      "text/plain": [
       "Map(center=[29.0403, 116.3518], controls=(WidgetControl(options=['position', 'transparent_bg'], widget=HBox(ch…"
      ]
     },
     "metadata": {},
     "output_type": "display_data"
    }
   ],
   "source": [
    "Map = geemap.Map()\n",
    "Map.setCenter(116.3518, 29.0403,9)\n",
    "Map"
   ]
  },
  {
   "cell_type": "code",
   "execution_count": 7,
   "id": "bfcebf8f",
   "metadata": {},
   "outputs": [],
   "source": [
    "roi= ee.Geometry.Rectangle(115.7701, 29.7696, 116.8961, 28.3553) #鄱阳湖\n",
    "poyang = ee.FeatureCollection('projects/validation-324408/assets/poyang')"
   ]
  },
  {
   "cell_type": "code",
   "execution_count": 8,
   "id": "85c9cff6",
   "metadata": {},
   "outputs": [],
   "source": [
    "vis = {'bands':['VV'],        \n",
    "       'min':-25, 'max':0\n",
    "}\n",
    "\n",
    "# search NAIP imagery that has RGBN bands\n",
    "collection = ee.ImageCollection(\"COPERNICUS/S1_GRD\") \\\n",
    "    .filterBounds(roi) \\\n",
    "    .filterDate('2020-07-15', '2020-07-30') \\\n",
    "    .filter(ee.Filter.listContains(\"system:band_names\", \"VV\"))\n",
    "image = collection.mean()\n",
    "image1 = collection.first().clip(poyang)\n",
    "# dem = ee.Image(\"MERIT/DEM/v1_0_3\")\n",
    "# dem = dem.lt(30)\n",
    "Map.addLayer(image,vis,\"sentinel-1\")"
   ]
  },
  {
   "cell_type": "code",
   "execution_count": 9,
   "id": "5efc6901",
   "metadata": {},
   "outputs": [],
   "source": [
    "filtered_SAR = gammaMap(image)\n",
    "biocut = filtered_SAR.select('VV').lt(-16)\n",
    "canny = ee.Algorithms.CannyEdgeDetector(biocut,1,1)\n",
    "canny = canny.clip(roi).unmask()\n",
    "connected  = canny.updateMask(canny).lt(0.05).connectedPixelCount(500, True)\n",
    "edges = connected.gte(5)\n",
    "edges = edges.updateMask(edges)\n",
    "edgeBuffer = edges.focal_max(5, 'square', 'meters')\n",
    "histogram_image = filtered_SAR.select('VV').updateMask(edgeBuffer)\n",
    "histogram_ =  histogram_image.select('VV').reduceRegion(**{\n",
    "  'reducer': ee.Reducer.histogram(255, 0.2),\n",
    "  'geometry': roi,\n",
    "  'scale': 10,\n",
    "  'bestEffort': True\n",
    "})\n",
    "hist_dict = histogram_.getInfo()\n",
    "threshold1 = otsu(histogram_.get('VV'))\n",
    "waterImgPre = ee.Image(ee.Algorithms.If(False,filtered_SAR.gt(threshold1),filtered_SAR.lt(threshold1))).selfMask().clip(poyang)\n",
    "waterImg = waterImgPre.select('VV')\n",
    "\n",
    "Map.addLayer(waterImg, {'palette': 'blue'}, 'WaterImg')"
   ]
  },
  {
   "cell_type": "code",
   "execution_count": 10,
   "id": "fe5d9cf6",
   "metadata": {},
   "outputs": [
    {
     "data": {
      "application/vnd.jupyter.widget-view+json": {
       "model_id": "9cca48dae73d4f50ad588aa9fa4000d4",
       "version_major": 2,
       "version_minor": 0
      },
      "text/plain": [
       "VBox(children=(Figure(axes=[Axis(scale=LinearScale()), Axis(orientation='vertical', scale=LinearScale())], fig…"
      ]
     },
     "metadata": {},
     "output_type": "display_data"
    }
   ],
   "source": [
    "x = hist_dict['VV']['bucketMeans']\n",
    "y = hist_dict['VV']['histogram']\n",
    "plt.bar(x, y)\n",
    "plt.show()\n",
    "# plt.show()"
   ]
  },
  {
   "cell_type": "code",
   "execution_count": 11,
   "id": "07bcfbee",
   "metadata": {},
   "outputs": [
    {
     "name": "stdout",
     "output_type": "stream",
     "text": [
      "threshold -15.699541989598117\n"
     ]
    }
   ],
   "source": [
    "print('threshold', threshold1.getInfo())"
   ]
  }
 ],
 "metadata": {
  "kernelspec": {
   "display_name": "Python 3 (ipykernel)",
   "language": "python",
   "name": "python3"
  },
  "language_info": {
   "codemirror_mode": {
    "name": "ipython",
    "version": 3
   },
   "file_extension": ".py",
   "mimetype": "text/x-python",
   "name": "python",
   "nbconvert_exporter": "python",
   "pygments_lexer": "ipython3",
   "version": "3.9.7"
  }
 },
 "nbformat": 4,
 "nbformat_minor": 5
}
